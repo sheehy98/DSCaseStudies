{
 "cells": [
  {
   "cell_type": "markdown",
   "metadata": {},
   "source": [
    "### Case Study 5 :  Data Science Shark Tank:  Pitch Your Ideas\n",
    "\n",
    "**Due Date: March 8, 2010, BEFORE the beginning of class at 11:00am**\n",
    "\n",
    "NOTE: There are always last minute issues submitting the case studies. DO NOT WAIT UNTIL THE LAST MINUTE!\n",
    "\n",
    "<img src=\"https://techcrunch.com/wp-content/uploads/2018/10/shark-tank.jpg?w=730&crop=1\" width=\"400px\"> "
   ]
  },
  {
   "cell_type": "markdown",
   "metadata": {},
   "source": [
    "### Problem 1: the Business Part \n",
    " As a group, learn about the data science related business and research about the current markets: such as search, social media, advertisement, recommendation and so on.\n",
    "Pick one of the markets for further consideration, and design a new service  which you believe to be important in the market. \n",
    "Define precisely in the report and briefly in the cells below, what is the business problem that your team wants to solve.\n",
    "Why the problem is important to solve? \n",
    "Why you believe you could make a big difference with data science technology.\n",
    "How are you planing to persuade the investors to buy in your idea."
   ]
  },
  {
   "cell_type": "markdown",
   "metadata": {},
   "source": [
    "**Please describe here *briefly*  (please edit this cell)**\n",
    "\n",
    "1) Your business problem to solve:\n",
    "\n",
    "**There are a huge number of movies but a given streaming service only has the funds to purchase the rights to a limited number.  How should these services chose what types of movies to purchase/produce?**\n",
    "\n",
    "\n",
    "2) Why the problem is important to solve? \n",
    "\n",
    "**This problem is important to solve because a good catalogue of movies can be the difference between a profitable streaming service and a failing one.  Public sentiment is very difficult to predict intuitively, and if a streaming service invests money in purchasing or producing a movie that the public will not respond well to, money will be lost on the movie deal, and if bad movies are consistently the ones brought to the streaming service, people will eventually lose interest in the platform as a whole.**\n",
    "\n",
    "3) What is your idea to solve the problem? \n",
    "\n",
    "**Our idea is to train a machine learning algorithm to detect the sentiment of text, use the algorithm to determine the percentage of people who respond positively to a selection of arbitrary movies, and compare the algorithm’s output to the movies’ IMDb scores and Rotten Tomatoes score to determine which rating system provides a better metric of the public opinion.  We will then run a regression with a number of categories including movie genre, runtime, language, and age rating as the predictors and the chosen rating system as the response to figure out which types of movies people tend to respond well to.  The coefficients of the regression model we find will give very important information about how each aspect of a movie corresponds to its public reception, and this data will be very valuable to an up-and-coming streaming service.**\n",
    "\n",
    "4) What differences you could make with your data science approach?\n",
    "\n",
    "**Using data science we will be able to much more accurately predict the types of movies that the public will like, improving the profitability and sustainability of our service compared to our competitors.  Our algorithm will help our company determine where to allocate our money in the most profitable way and ensure we minimize box-office flopping.**\n",
    "\n",
    "5) Why do you believe the idea deserves the investment of the \"sharks\"?\n",
    "\n",
    "**Our idea deserves the investment of the ‘sharks’ because using data science as the basis of a streaming platform is an innovative way of ensuring maximum consumer engagement.  There is a huge amount of money in the streaming services market, and becoming an important part of that market would bring lots of money to our company.  With the ‘sharks’ money we could invest in using our sentiment analysis algorithm to determine our own set of movie ratings rather than depending on IMDb or Rotten Tomatoes, or we could look into different types of regressions to come up with a more accurate algorithm.**\n"
   ]
  },
  {
   "cell_type": "markdown",
   "metadata": {},
   "source": [
    "### Problem 2: The Data Part "
   ]
  },
  {
   "cell_type": "markdown",
   "metadata": {},
   "source": [
    "Define how Twitter data and at least one other dataset can be combined to make a Data Science product."
   ]
  },
  {
   "cell_type": "code",
   "execution_count": 2,
   "metadata": {},
   "outputs": [],
   "source": [
    "# Importing useful libraries and classes\n",
    "import sys\n",
    "from sklearn.feature_extraction.text import CountVectorizer\n",
    "from sklearn.feature_extraction.text import TfidfTransformer\n",
    "from sklearn.feature_extraction.text import TfidfVectorizer\n",
    "from sklearn.svm import LinearSVC\n",
    "from sklearn.pipeline import Pipeline\n",
    "from sklearn.model_selection import GridSearchCV\n",
    "from sklearn.datasets import load_files\n",
    "from sklearn.model_selection import train_test_split\n",
    "from sklearn import metrics\n",
    "from sklearn.neighbors import KNeighborsClassifier\n",
    "from sklearn.neural_network import MLPClassifier\n",
    "from sklearn.linear_model import LinearRegression\n",
    "\n",
    "import timeit\n",
    "import numpy as np\n",
    "import pandas as pd\n",
    "import twitter\n",
    "import json\n",
    "import matplotlib.pyplot as plt\n",
    "from collections import Counter\n",
    "from urllib.parse import unquote"
   ]
  },
  {
   "cell_type": "code",
   "execution_count": 3,
   "metadata": {},
   "outputs": [],
   "source": [
    "# Twitter Authorization\n",
    "CONSUMER_KEY = \"RB4hX8gjnUlPX4Ijvuj5gL9LT\"\n",
    "CONSUMER_SECRET = \"YovCvfis70dTuD1IuZMdHdhfiPPAr5nd22QkTIpnELq4r7Dw9j\"\n",
    "OAUTH_TOKEN = \"571213367-fyYadzmC7wGWOkM6OCF99ZevVjWGDC3fnO5OoYGr\"\n",
    "OAUTH_TOKEN_SECRET = \"OjRD5By0qU0q3g9DJXCpMvnJrdYe1KIj2G2BoGtRng9q5\"\n",
    "\n",
    "auth = twitter.oauth.OAuth(OAUTH_TOKEN, OAUTH_TOKEN_SECRET,\n",
    "                           CONSUMER_KEY, CONSUMER_SECRET)\n",
    "\n",
    "twitter_api = twitter.Twitter(auth=auth)"
   ]
  },
  {
   "cell_type": "code",
   "execution_count": 4,
   "metadata": {},
   "outputs": [],
   "source": [
    "# The training data folder must be passed as first argument\n",
    "dataset = load_files('txt_sentoken', shuffle=False)\n",
    "\n",
    "# Split the dataset in training and test set:\n",
    "docs_train, docs_test, y_train, y_test = train_test_split(dataset.data, dataset.target, test_size=0.25, random_state=None)\n",
    "\n",
    "# Turning the testing and training docs into TF-IDF tokens \n",
    "vectorized = TfidfVectorizer(ngram_range = (1, 1)).fit(docs_train)\n",
    "Xtrain = vectorized.transform(docs_train)\n",
    "Xtest = vectorized.transform(docs_test)\n",
    "y_predictor = MLPClassifier(activation = 'logistic', hidden_layer_sizes = (100,), solver = 'adam').fit(Xtrain, y_train)"
   ]
  },
  {
   "cell_type": "code",
   "execution_count": 5,
   "metadata": {},
   "outputs": [],
   "source": [
    "# Testing the sentiment of tweets relating to a series of movies, storing them in a dictionary of format [title, ratio of positive tweets to total tweets]\n",
    "Movies = ['Taxi Driver', 'The Social Network', 'The Matrix Reloaded', 'Hold the Dark', 'Uncorked', 'Stuart Little']\n",
    "Moviesdict = {}\n",
    "\n",
    "for q in Movies:\n",
    "    tweets = []\n",
    "    count = 100\n",
    "    search_results = twitter_api.search.tweets(q=q, count=count)\n",
    "    statuses = search_results['statuses']\n",
    "    while len(tweets) < 300:\n",
    "        try:\n",
    "            next_results = search_results['search_metadata']['next_results']\n",
    "        except KeyError as e: # No more results when next_results doesn't exist\n",
    "            break\n",
    "        kwargs = dict([ kv.split('=') for kv in unquote(next_results[1:]).split(\"&\") ])\n",
    "        search_results = twitter_api.search.tweets(**kwargs)\n",
    "        statuses = search_results['statuses']\n",
    "        for i in statuses:\n",
    "            if (not ('retweeted_status' in i.keys())) and i['lang'] == 'en':\n",
    "                tweets.append(str(i['text']))\n",
    "    \n",
    "    tweets2 = []               \n",
    "    for i in tweets:\n",
    "        tweets2.append(bytes(i, 'utf-8'))\n",
    "    X = TfidfVectorizer(ngram_range = (1, 1)).fit(docs_train)\n",
    "    Xtest = X.transform(tweets2)\n",
    "    y_predicted = y_predictor.predict(Xtest)\n",
    "    Moviesdict[q] = round(np.count_nonzero(y_predicted == 1)/len(tweets)*100, 3)\n"
   ]
  },
  {
   "cell_type": "code",
   "execution_count": 9,
   "metadata": {},
   "outputs": [
    {
     "name": "stdout",
     "output_type": "stream",
     "text": [
      "Taxi Driver \n",
      "True Positive Percentage: 82.555 \n",
      "IMDb Rating: 8.3 \n",
      "Rotten Tomatoes Rating: 95% \n",
      "\n",
      "The Social Network \n",
      "True Positive Percentage: 68.065 \n",
      "IMDb Rating: 7.7 \n",
      "Rotten Tomatoes Rating: 96% \n",
      "\n",
      "The Matrix Reloaded \n",
      "True Positive Percentage: 76.301 \n",
      "IMDb Rating: 7.2 \n",
      "Rotten Tomatoes Rating: 73% \n",
      "\n",
      "Hold the Dark \n",
      "True Positive Percentage: 33.537 \n",
      "IMDb Rating: 5.6 \n",
      "Rotten Tomatoes Rating: 73% \n",
      "\n",
      "Uncorked \n",
      "True Positive Percentage: 49.302 \n",
      "IMDb Rating: 6.1 \n",
      "Rotten Tomatoes Rating: 93% \n",
      "\n",
      "Stuart Little \n",
      "True Positive Percentage: 70.149 \n",
      "IMDb Rating: 5.9 \n",
      "Rotten Tomatoes Rating: 67% \n",
      "\n"
     ]
    }
   ],
   "source": [
    "# Reading from the external data source (movie data)\n",
    "df = pd.read_csv('movies.csv')\n",
    "\n",
    "# Printing out the calculated public sentiment, IMDb rating, and Rotten Tomatoes rating of each movie\n",
    "for i in Moviesdict.keys():\n",
    "    for j in range(len(df['Title'])):\n",
    "        if (df['Title'][j] == i):\n",
    "            print(i, \"\\nTrue Positive Percentage:\", Moviesdict[i], \"\\nIMDb Rating:\", df[\"IMDb\"][j], \"\\nRotten Tomatoes Rating:\", df[\"Rotten Tomatoes\"][j], \"\\n\")\n",
    "    \n",
    "# IMDb makes more accurate predictions when the IMDb and Rotten Tomatoes reviews are different and\n",
    "# Rotten Tomatoes makes more accurate predictions when the ratings are very similar, but this\n",
    "# is much less important, so IMDb is more accurate overall."
   ]
  },
  {
   "cell_type": "code",
   "execution_count": 7,
   "metadata": {},
   "outputs": [
    {
     "name": "stdout",
     "output_type": "stream",
     "text": [
      "13+ : 0.211\n",
      "18+ : -0.074\n",
      "all : 0.087\n",
      "Hours : 0.289\n",
      "Last 5 years? : -0.062\n",
      "Action : -0.264\n",
      "Adventure : -0.129\n",
      "Sci-Fi : -0.412\n",
      "Thriller : -0.172\n",
      "Comedy : 0.146\n",
      "Western : 0.161\n",
      "Animation : 0.722\n",
      "Family : -0.085\n",
      "War : 0.049\n",
      "Drama : 0.38\n",
      "Documentary : 1.215\n",
      "Biography : 0.282\n",
      "Mystery : 0.181\n",
      "Crime : 0.039\n",
      "Horror : -0.867\n",
      "Fantasy : -0.015\n",
      "History : 0.21\n",
      "Romance : 0.005\n",
      "Sport : 0.075\n",
      "Musical : 0.119\n"
     ]
    }
   ],
   "source": [
    "# Dropping every movie without an IMDb rating (about 500 out of over 16000)\n",
    "df = df[df['IMDb'].notna()]\n",
    "\n",
    "#establishing predictors and response variables\n",
    "y = df['IMDb']\n",
    "predictors = ['13+', '18+', 'all', 'Hours', 'Last 5 years?', 'Action', 'Adventure', 'Sci-Fi', 'Thriller', 'Comedy', 'Western', 'Animation', 'Family', 'War', 'Drama', 'Documentary', 'Biography', 'Mystery', 'Crime', 'Horror', 'Fantasy', 'History', 'Romance', 'Sport', 'Musical']\n",
    "x = df[predictors]\n",
    "yClassification = []\n",
    "for i in y:\n",
    "    if i >= 6.5:\n",
    "        yClassification.append(1)\n",
    "    else:\n",
    "        yClassification.append(0)\n",
    "\n",
    "# Fitting a LinearRegression model to calculate IMDb score and a MLPClassifier to calculate\n",
    "# whether a movie with given properties will be a success or a failure\n",
    "y_model = LinearRegression().fit(x,y)\n",
    "y_model_class = MLPClassifier(activation = 'logistic', hidden_layer_sizes = (100,), solver = 'adam').fit(x, yClassification)\n",
    "\n",
    "# Printing the coefficients of the linear model to get an idea of what makes for a good or \n",
    "# a bad movie in the eyes of the public\n",
    "for i in range(len(predictors)):\n",
    "    print(predictors[i], \":\", round(y_model.coef_[i], 3))"
   ]
  },
  {
   "cell_type": "markdown",
   "metadata": {},
   "source": [
    "### Problem 3: The Demo Part  \n"
   ]
  },
  {
   "cell_type": "markdown",
   "metadata": {},
   "source": [
    "Implement a small Demo/Prototype/experiment result figures for the \"product\" of your data science company. You could use this demo during the Pitch"
   ]
  },
  {
   "cell_type": "code",
   "execution_count": 8,
   "metadata": {},
   "outputs": [
    {
     "name": "stdout",
     "output_type": "stream",
     "text": [
      "Movie: Citizen Kane\n",
      "Predicted IMDb Score: 6.4679370000924505\n",
      "Success? 0 \n",
      "\n",
      "Movie: Back to the Future\n",
      "Predicted IMDb Score: 5.403490773288368\n",
      "Success? 0 \n",
      "\n",
      "Movie: Grey Garden\n",
      "Predicted IMDb Score: 7.556566492455293\n",
      "Success? 1 \n",
      "\n",
      "Movie: Frozen\n",
      "Predicted IMDb Score: 6.622892748108609\n",
      "Success? 1 \n",
      "\n",
      "Movie: Cloverfield\n",
      "Predicted IMDb Score: 4.176856489372991\n",
      "Success? 0 \n",
      "\n",
      "Movie: Rim of the World\n",
      "Predicted IMDb Score: 5.262442741864594\n",
      "Success? 0 \n",
      "\n",
      "Movie: Your New Movie!\n",
      "Predicted IMDb Score: 8.630241071433458\n",
      "Success? 1 \n",
      "\n"
     ]
    }
   ],
   "source": [
    "# Sample movies one may consider purchasing the rights to\n",
    "testMovies = {}\n",
    "testMovies['Citizen Kane'] = np.array([[0, 0, 1, 119.0/60.0, 0, 0, 0, 0, 0, 0, 0, 0, 0, 0, 1, 0, 0, 1, 0, 0, 0, 0, 0, 0, 0]])\n",
    "testMovies['Back to the Future'] = np.array([[0, 0, 1, 116.0/60.0, 0, 0, 1, 1, 0, 1, 0, 0, 1, 0, 0, 0, 0, 0, 0, 0, 1, 0, 1, 0, 0]])\n",
    "testMovies['Grey Garden'] = np.array([[0, 0, 1, 100.0/60.0, 0, 0, 0, 0, 0, 1, 0, 0, 0, 0, 1, 1, 0, 0, 0, 0, 0, 0, 0, 0, 0]])\n",
    "testMovies['Frozen'] = np.array([[0, 0, 1, 109.0/60.0, 0, 0, 1, 0, 0, 1, 0, 1, 1, 0, 0, 0, 0, 0, 0, 0, 1, 0, 1, 0, 1]])\n",
    "testMovies['Cloverfield'] = np.array([[1, 0, 0, 90.0/60.0, 0, 1, 0, 1, 1, 0, 0, 0, 0, 0, 0, 0, 0, 0, 0, 1, 0, 0, 0, 0, 0]])\n",
    "\n",
    "# Sample Netflix original to give an idea of the type of movie current streaming services prioritize\n",
    "testMovies['Rim of the World'] = np.array([[0, 0, 0, 98.0/60.0, 1, 0, 1, 1, 0, 1, 0, 0, 0, 0, 0, 0, 0, 0, 0, 0, 0, 0, 0, 0, 0]])\n",
    "# The type of movie we would suggest producing based on our algorithm\n",
    "testMovies['Your New Movie!'] = np.array([[1, 0, 0, 180.0/60, 1, 0, 0, 0, 0, 1, 1, 1, 0, 0, 0, 1, 0, 0, 0, 0, 0, 0, 1, 0, 1]])\n",
    "\n",
    "# Printing the predicted scores of the test movies\n",
    "for i in testMovies.keys():\n",
    "    print(\"Movie:\", i)\n",
    "    print(\"Predicted IMDb Score:\", y_model.predict(testMovies[i])[0])\n",
    "    print(\"Success?\", y_model_class.predict(testMovies[i])[0], \"\\n\")"
   ]
  }
 ],
 "metadata": {
  "kernelspec": {
   "display_name": "Python 3",
   "language": "python",
   "name": "python3"
  },
  "language_info": {
   "codemirror_mode": {
    "name": "ipython",
    "version": 3
   },
   "file_extension": ".py",
   "mimetype": "text/x-python",
   "name": "python",
   "nbconvert_exporter": "python",
   "pygments_lexer": "ipython3",
   "version": "3.8.5"
  }
 },
 "nbformat": 4,
 "nbformat_minor": 4
}
